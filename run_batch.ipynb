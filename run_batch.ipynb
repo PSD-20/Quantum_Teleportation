{
 "cells": [
  {
   "cell_type": "code",
   "execution_count": 1,
   "id": "d1f04cd0",
   "metadata": {},
   "outputs": [],
   "source": [
    "from qiskit import QuantumRegister, QuantumCircuit, ClassicalRegister\n",
    "from qiskit.quantum_info import Statevector, state_fidelity\n",
    "from qiskit_ibm_runtime.fake_provider import FakeHanoiV2\n",
    "from qiskit.transpiler import generate_preset_pass_manager\n",
    "from qiskit_ibm_runtime import SamplerV2 as Sampler\n",
    "from qiskit.visualization import plot_histogram\n",
    "import matplotlib.pyplot as plt\n",
    "import pickle\n",
    "import numpy as np\n"
   ]
  },
  {
   "cell_type": "code",
   "execution_count": 2,
   "id": "7750283a",
   "metadata": {},
   "outputs": [],
   "source": [
    "from utils import *\n",
    "from teleport import *"
   ]
  },
  {
   "cell_type": "code",
   "execution_count": null,
   "id": "172b31a8",
   "metadata": {},
   "outputs": [],
   "source": [
    "#No. of Qubits \n",
    "n = 1\n",
    "\n",
    "#No. of circuits to run\n",
    "m = 2"
   ]
  },
  {
   "cell_type": "code",
   "execution_count": null,
   "id": "c15f4b65",
   "metadata": {},
   "outputs": [],
   "source": [
    "#Prepare list of Initial State\n",
    "psi_nq = []\n",
    "for i in range(m):\n",
    "    psi_nq.append(state_prep(n))"
   ]
  },
  {
   "cell_type": "code",
   "execution_count": null,
   "id": "8e20b7f0",
   "metadata": {},
   "outputs": [],
   "source": [
    "#Initialize lists\n",
    "\n",
    "circa = []\n",
    "cbita = []\n",
    "\n",
    "circb = []\n",
    "cbitb = []\n",
    "\n",
    "mltpl_sva = []\n",
    "mltpl_svb = []"
   ]
  },
  {
   "cell_type": "code",
   "execution_count": null,
   "id": "dd0badee",
   "metadata": {},
   "outputs": [],
   "source": [
    "#Run both teleportation and checker circuits\n",
    "\n",
    "for i in range(m):\n",
    "    qca, ca = teleportation_circuit(n, psi_nq[i])\n",
    "\n",
    "    mltpl_sva.append(Statevector.from_instruction(qca))\n",
    "    circa.append(qca)\n",
    "    cbita.append(ca)\n",
    "\n",
    "    \n",
    "    qcb, cb = checker_circuit(n, psi_nq[i])\n",
    "\n",
    "    mltpl_svb.append(Statevector.from_instruction(qcb))\n",
    "    circb.append(qcb)\n",
    "    cbitb.append(cb)\n",
    " "
   ]
  },
  {
   "cell_type": "code",
   "execution_count": null,
   "id": "5165a2be",
   "metadata": {},
   "outputs": [],
   "source": [
    "#Measure teach one of them\n",
    "\n",
    "measure_all(circa, cbita, n)\n",
    "measure_all(circb, cbitb, n)"
   ]
  },
  {
   "cell_type": "code",
   "execution_count": null,
   "id": "e370c0fa",
   "metadata": {},
   "outputs": [
    {
     "name": "stderr",
     "output_type": "stream",
     "text": [
      "qiskit_runtime_service._resolve_cloud_instances:WARNING:2025-07-24 15:16:06,080: Default instance not set. Searching all available instances.\n"
     ]
    }
   ],
   "source": [
    "#Load the backend\n",
    "\n",
    "from qiskit_ibm_runtime import QiskitRuntimeService, Batch\n",
    "\n",
    "service = QiskitRuntimeService()\n",
    "backend = service.least_busy(simulator=False, operational=True)"
   ]
  },
  {
   "cell_type": "code",
   "execution_count": null,
   "id": "b04a75aa",
   "metadata": {},
   "outputs": [],
   "source": [
    "#Set number of circuit in a single batch\n",
    "\n",
    "max_circuit_in_batch = 2"
   ]
  },
  {
   "cell_type": "code",
   "execution_count": null,
   "id": "6a854833",
   "metadata": {},
   "outputs": [],
   "source": [
    "#Job list for Teleportation circuit\n",
    "\n",
    "jobsa = simulate_batch(circa, backend, max_circuit_in_batch)"
   ]
  },
  {
   "cell_type": "code",
   "execution_count": null,
   "id": "a110cb0d",
   "metadata": {},
   "outputs": [],
   "source": [
    "#Job list for Checker circuit\n",
    "\n",
    "jobsb = simulate_batch(circb, backend, max_circuit_in_batch)"
   ]
  },
  {
   "cell_type": "code",
   "execution_count": null,
   "id": "60229cfc",
   "metadata": {},
   "outputs": [],
   "source": [
    "#List of counts for Teleportation circuit\n",
    "\n",
    "mltpl_countsa = get_batch_result(jobsa, n)"
   ]
  },
  {
   "cell_type": "code",
   "execution_count": null,
   "id": "b7928ac9",
   "metadata": {},
   "outputs": [],
   "source": [
    "#List of counts for Checker circuit\n",
    "\n",
    "mltpl_countsb = get_batch_result(jobsb, n)"
   ]
  },
  {
   "cell_type": "code",
   "execution_count": null,
   "id": "b1e82a06",
   "metadata": {},
   "outputs": [],
   "source": [
    "#Check fidelity of the counts obtained by the Quantum computer\n",
    "\n",
    "batch_fdlty = calc_batch_fdlty(mltpl_countsa, mltpl_countsb)\n",
    "\n",
    "#Check Fidelity of state obtained post teleportation and one before it\n",
    "batch_state_fdlty = calc_batch_statefdlty(mltpl_sva, mltpl_svb)"
   ]
  },
  {
   "cell_type": "code",
   "execution_count": null,
   "id": "7827168e",
   "metadata": {},
   "outputs": [],
   "source": [
    "# Save variables to a file\n",
    "\n",
    "with open('Variables.pkl', 'wb') as f:\n",
    "    pickle.dump({'mltpl_countsa': mltpl_countsa, 'mltpl_countsb': mltpl_countsb, 'batch_fdlty': batch_fdlty, 'batch_state_fdlty' : batch_state_fdlty, 'n_batch' : n}, f)"
   ]
  }
 ],
 "metadata": {
  "kernelspec": {
   "display_name": "qiskit_1x",
   "language": "python",
   "name": "python3"
  },
  "language_info": {
   "codemirror_mode": {
    "name": "ipython",
    "version": 3
   },
   "file_extension": ".py",
   "mimetype": "text/x-python",
   "name": "python",
   "nbconvert_exporter": "python",
   "pygments_lexer": "ipython3",
   "version": "3.12.4"
  }
 },
 "nbformat": 4,
 "nbformat_minor": 5
}
