{
 "cells": [
  {
   "cell_type": "code",
   "execution_count": null,
   "id": "4ad03a70",
   "metadata": {},
   "outputs": [],
   "source": [
    "from qiskit import QuantumRegister, QuantumCircuit, ClassicalRegister\n",
    "from qiskit.quantum_info import Statevector, state_fidelity\n",
    "from qiskit_ibm_runtime.fake_provider import FakeHanoiV2\n",
    "from qiskit.transpiler import generate_preset_pass_manager\n",
    "from qiskit_ibm_runtime import SamplerV2 as Sampler\n",
    "from qiskit.visualization import plot_histogram\n",
    "import matplotlib.pyplot as plt\n",
    "import pickle\n",
    "import numpy as np\n"
   ]
  },
  {
   "cell_type": "code",
   "execution_count": 2,
   "id": "528b5399",
   "metadata": {},
   "outputs": [],
   "source": [
    "from utils import *\n",
    "from teleport import *"
   ]
  },
  {
   "cell_type": "code",
   "execution_count": 3,
   "id": "2f057e11",
   "metadata": {},
   "outputs": [],
   "source": [
    "#No. of Qubits\n",
    "\n",
    "n = 1"
   ]
  },
  {
   "cell_type": "code",
   "execution_count": 5,
   "id": "288b258a",
   "metadata": {},
   "outputs": [],
   "source": [
    "#Prepare state to teleport\n",
    "\n",
    "psi_nq = state_prep(n)"
   ]
  },
  {
   "cell_type": "code",
   "execution_count": 6,
   "id": "d7d4a190",
   "metadata": {},
   "outputs": [
    {
     "data": {
      "image/png": "[encoded data removed]",
      "text/plain": [
       "<Figure size 788.961x284.278 with 1 Axes>"
      ]
     },
     "execution_count": 6,
     "metadata": {},
     "output_type": "execute_result"
    }
   ],
   "source": [
    "#Run teleportation circuit\n",
    "\n",
    "qca, ca = teleportation_circuit_QFT(n, psi_nq)\n",
    "\n",
    "qca.draw('mpl')"
   ]
  },
  {
   "cell_type": "code",
   "execution_count": 7,
   "id": "78b49cf4",
   "metadata": {},
   "outputs": [
    {
     "data": {
      "image/png": "[encoded data removed]",
      "text/plain": [
       "<Figure size 538.128x284.278 with 1 Axes>"
      ]
     },
     "execution_count": 7,
     "metadata": {},
     "output_type": "execute_result"
    }
   ],
   "source": [
    "#Run checker circuit\n",
    "\n",
    "qcb, cb = checker_circuit_QFT(n, psi_nq)\n",
    "\n",
    "qcb.draw('mpl')"
   ]
  },
  {
   "cell_type": "code",
   "execution_count": 8,
   "id": "f6e0bc6d",
   "metadata": {},
   "outputs": [],
   "source": [
    "#Save the statevector for both the circuits before measurement\n",
    "\n",
    "sva = Statevector.from_instruction(qca)\n",
    "svb = Statevector.from_instruction(qcb)"
   ]
  },
  {
   "cell_type": "code",
   "execution_count": null,
   "id": "ddd4bdd4",
   "metadata": {},
   "outputs": [],
   "source": [
    "#Measure the state obtained for respective circuit\n",
    "\n",
    "qca.measure(range(n + 1, 2 * n + 1), ca)\n",
    "qcb.measure(range(n + 1, 2 * n + 1), cb)"
   ]
  },
  {
   "cell_type": "code",
   "execution_count": null,
   "id": "81c11c86",
   "metadata": {},
   "outputs": [],
   "source": [
    "#Load the simulator\n",
    "backend = FakeHanoiV2()\n",
    "\n",
    "#Load the backend\n",
    "\"\"\"from qiskit_ibm_runtime import QiskitRuntimeService, Batch\n",
    "\n",
    "service = QiskitRuntimeService()\n",
    "backend = service.least_busy(simulator=False, operational=True)\"\"\""
   ]
  },
  {
   "cell_type": "code",
   "execution_count": null,
   "id": "a15a7a1d",
   "metadata": {},
   "outputs": [],
   "source": [
    "#Job for Teleportation circuit\n",
    "\n",
    "joba = simulate(qca, backend)"
   ]
  },
  {
   "cell_type": "code",
   "execution_count": null,
   "id": "3fd13b5f",
   "metadata": {},
   "outputs": [],
   "source": [
    "#Count for Teleportation circuit\n",
    "\n",
    "counta_qft = get_result(joba, n)"
   ]
  },
  {
   "cell_type": "code",
   "execution_count": null,
   "id": "620ea656",
   "metadata": {},
   "outputs": [],
   "source": [
    "#Job list for Checker circuit\n",
    "\n",
    "jobb = simulate(qcb, backend)"
   ]
  },
  {
   "cell_type": "code",
   "execution_count": null,
   "id": "1f0de509",
   "metadata": {},
   "outputs": [],
   "source": [
    "#Count for Checker circuit\n",
    "\n",
    "countb_qft = get_result(jobb, n)"
   ]
  },
  {
   "cell_type": "code",
   "execution_count": null,
   "id": "4a1a9cb5",
   "metadata": {},
   "outputs": [],
   "source": [
    "#Check fidelity of the counts obtained by the Quantum computer\n",
    "\n",
    "fdlty_qft = calc_fdlty(counta_qft, countb_qft) \n",
    "fdlty_qft"
   ]
  },
  {
   "cell_type": "code",
   "execution_count": null,
   "id": "a22c211b",
   "metadata": {},
   "outputs": [],
   "source": [
    "\n",
    "#Check Fidelity of state obtained post teleportation and one before it\n",
    "\n",
    "state_fdlty_qft = state_fidelity(extract_state_QFT(sva), extract_state_QFT(svb))\n",
    "state_fdlty_qft"
   ]
  },
  {
   "cell_type": "code",
   "execution_count": null,
   "id": "6a609e30",
   "metadata": {},
   "outputs": [],
   "source": [
    "# Save variables to a file\n",
    "with open('Variables.pkl', 'wb') as f:\n",
    "    pickle.dump({'counta_qft': counta_qft, 'countb_qft': countb_qft, 'fdlty_qft': fdlty_qft, 'state_fdlty_qft' : state_fdlty_qft, 'n' : n}, f)\n"
   ]
  }
 ],
 "metadata": {
  "kernelspec": {
   "display_name": "qiskit_1x",
   "language": "python",
   "name": "python3"
  },
  "language_info": {
   "codemirror_mode": {
    "name": "ipython",
    "version": 3
   },
   "file_extension": ".py",
   "mimetype": "text/x-python",
   "name": "python",
   "nbconvert_exporter": "python",
   "pygments_lexer": "ipython3",
   "version": "3.12.4"
  }
 },
 "nbformat": 4,
 "nbformat_minor": 5
}
