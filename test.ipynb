{
 "cells": [
  {
   "cell_type": "code",
   "execution_count": 6,
   "id": "648d7161",
   "metadata": {},
   "outputs": [
    {
     "data": {
      "text/plain": [
       "array([-0.26364883-0.001987j  ,  0.47602234-0.05416017j,\n",
       "       -0.29101544-0.28316523j,  0.12925896+0.22919895j,\n",
       "        0.11407663+0.13006364j, -0.0959237 -0.06281301j,\n",
       "       -0.00893768+0.21575154j,  0.30353336+0.53385786j])"
      ]
     },
     "execution_count": 6,
     "metadata": {},
     "output_type": "execute_result"
    }
   ],
   "source": [
    "import numpy as np\n",
    "\n",
    "n = 3\n",
    "vec = np.random.randn(2 ** n) + 1j * np.random.randn(2 ** n)\n",
    "psi_nq = vec / np.linalg.norm(vec)\n",
    "psi = psi_nq * np.linalg.norm(vec)\n",
    "#psi_nq, psi, vec\n",
    "psi_nq"
   ]
  },
  {
   "cell_type": "code",
   "execution_count": null,
   "id": "c82c48fa",
   "metadata": {},
   "outputs": [
    {
     "data": {
      "image/png": "[encoded data removed]",
      "text/plain": [
       "<Figure size 640x480 with 1 Axes>"
      ]
     },
     "metadata": {},
     "output_type": "display_data"
    }
   ],
   "source": [
    "import numpy as np\n",
    "import matplotlib.pyplot as plt\n",
    "\n",
    "# Step 1: Define the grayscale matrix (values from 0 to 255)\n",
    "img = np.array([\n",
    "    [  0,   0,  30, 200, 255, 180,   0,   0],\n",
    "    [  0,  30, 240, 255, 255, 255,  30,   0],\n",
    "    [  0,  30,  60,  80, 100, 255,  90,   0],\n",
    "    [  0,   0,   0,   0, 180, 255, 100,   0],\n",
    "    [  0,   0,   0, 180, 255, 180,   0,   0],\n",
    "    [  0,   0,   0, 220, 255,  80,   0,   0],\n",
    "    [  0,   0,   0, 150, 255, 190,  50,   0],\n",
    "    [  0,   0,   0,   0, 180, 255, 190,   0],\n",
    "    [  0,   0,   0,   0, 100, 255, 255,  20],\n",
    "    [  0,   0,   0,   0,   0, 190, 255, 130],\n",
    "    [  0,   0,   0,   0,   0, 150, 255, 180],\n",
    "    [  0,  10,  20,   0,  30, 240, 255, 130],\n",
    "    [  0, 120, 255, 240, 255, 255, 255,  40],\n",
    "    [  0, 100, 220, 255, 220, 150,  60,   0],\n",
    "    [  0,   0,  10,  80,  30,   0,   0,   0],\n",
    "    [  0,   0,   0,   0,   0,   0,   0,   0]\n",
    "], dtype=np.uint8)  # Use uint8 to represent image pixels correctly\n",
    "\n",
    "# Step 2: Show as grayscale image\n",
    "plt.imshow(img, cmap='gray', vmin=0, vmax=255)\n",
    "plt.title(\"Grayscale Image\")\n",
    "plt.axis('off')  # Hide axes\n",
    "plt.show()\n"
   ]
  },
  {
   "cell_type": "code",
   "execution_count": 69,
   "id": "a9f007ad",
   "metadata": {},
   "outputs": [
    {
     "data": {
      "text/plain": [
       "(array([[  0,   0,  30, 200, 255, 180,   0,   0],\n",
       "        [  0,  30, 240, 255, 255, 255,  30,   0],\n",
       "        [  0,  30,  60,  80, 100, 255,  90,   0],\n",
       "        [  0,   0,   0,   0, 180, 255, 100,   0],\n",
       "        [  0,   0,   0, 180, 255, 180,   0,   0],\n",
       "        [  0,   0,   0, 220, 255,  80,   0,   0],\n",
       "        [  0,   0,   0, 150, 255, 190,  50,   0],\n",
       "        [  0,   0,   0,   0, 180, 255, 190,   0]], dtype=uint8),\n",
       " array([[  0,   0,   0,   0, 100, 255, 255,  20],\n",
       "        [  0,   0,   0,   0,   0, 190, 255, 130],\n",
       "        [  0,   0,   0,   0,   0, 150, 255, 180],\n",
       "        [  0,  10,  20,   0,  30, 240, 255, 130],\n",
       "        [  0, 120, 255, 240, 255, 255, 255,  40],\n",
       "        [  0, 100, 220, 255, 220, 150,  60,   0],\n",
       "        [  0,   0,  10,  80,  30,   0,   0,   0],\n",
       "        [  0,   0,   0,   0,   0,   0,   0,   0]], dtype=uint8))"
      ]
     },
     "execution_count": 69,
     "metadata": {},
     "output_type": "execute_result"
    }
   ],
   "source": [
    "upper_half = img[:8, :]\n",
    "lower_half = img[8:, :]\n",
    "upper_half, lower_half"
   ]
  },
  {
   "cell_type": "code",
   "execution_count": 70,
   "id": "5549dcd3",
   "metadata": {},
   "outputs": [],
   "source": [
    "img_vec = upper_half + 1j * lower_half\n"
   ]
  },
  {
   "cell_type": "code",
   "execution_count": 72,
   "id": "fa44383f",
   "metadata": {},
   "outputs": [],
   "source": [
    "psi_img = img_vec / np.linalg.norm(img_vec)"
   ]
  },
  {
   "cell_type": "code",
   "execution_count": 81,
   "id": "7cc9b533",
   "metadata": {},
   "outputs": [],
   "source": [
    "psi_img *= np.linalg.norm(img_vec)"
   ]
  },
  {
   "cell_type": "code",
   "execution_count": 82,
   "id": "923ea133",
   "metadata": {},
   "outputs": [],
   "source": [
    "ush = []\n",
    "lsh = []\n",
    "l = len(psi_img)\n",
    "w = len(psi_img[0])\n",
    "for i in range(l):\n",
    "    for j in range(w):\n",
    "        \n",
    "        ush.append(psi_img[i][j].real)\n",
    "        lsh.append(psi_img[i][j].imag)\n",
    "        \n",
    "    "
   ]
  },
  {
   "cell_type": "code",
   "execution_count": 83,
   "id": "e3e6cfa5",
   "metadata": {},
   "outputs": [],
   "source": [
    "upper_senthalf = np.array(ush).reshape(8, 8)\n",
    "lower_senthalf = np.array(lsh).reshape(8, 8)"
   ]
  },
  {
   "cell_type": "code",
   "execution_count": 84,
   "id": "df539247",
   "metadata": {},
   "outputs": [],
   "source": [
    "psi_sentimg = np.vstack((upper_senthalf, lower_senthalf))\n"
   ]
  },
  {
   "cell_type": "code",
   "execution_count": 75,
   "id": "cdd8c16f",
   "metadata": {},
   "outputs": [],
   "source": [
    "img_sentvec =  psi_sentimg * np.linalg.norm(img_vec)"
   ]
  },
  {
   "cell_type": "code",
   "execution_count": 85,
   "id": "0e341de4",
   "metadata": {},
   "outputs": [
    {
     "name": "stdout",
     "output_type": "stream",
     "text": [
      "True\n"
     ]
    }
   ],
   "source": [
    "print(np.allclose(img, psi_sentimg))"
   ]
  }
 ],
 "metadata": {
  "kernelspec": {
   "display_name": "base",
   "language": "python",
   "name": "python3"
  },
  "language_info": {
   "codemirror_mode": {
    "name": "ipython",
    "version": 3
   },
   "file_extension": ".py",
   "mimetype": "text/x-python",
   "name": "python",
   "nbconvert_exporter": "python",
   "pygments_lexer": "ipython3",
   "version": "3.12.3"
  }
 },
 "nbformat": 4,
 "nbformat_minor": 5
}
